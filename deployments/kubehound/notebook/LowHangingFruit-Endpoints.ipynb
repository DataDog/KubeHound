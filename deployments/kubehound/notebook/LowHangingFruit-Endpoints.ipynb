{
 "cells": [
  {
   "cell_type": "markdown",
   "metadata": {
    "execution": {
     "iopub.execute_input": "2024-07-24T14:46:25.538529Z",
     "iopub.status.busy": "2024-07-24T14:46:25.538280Z",
     "iopub.status.idle": "2024-07-24T14:46:25.545724Z",
     "shell.execute_reply": "2024-07-24T14:46:25.545041Z",
     "shell.execute_reply.started": "2024-07-24T14:46:25.538501Z"
    },
    "frozen": false,
    "init_cell": true,
    "tags": [
     "safe_output"
    ]
   },
   "source": [
    "# Autoloading\n",
    "\n",
    "Loading graph visualisation settings."
   ]
  },
  {
   "cell_type": "code",
   "execution_count": null,
   "metadata": {
    "init_cell": true
   },
   "outputs": [],
   "source": [
    "%%graph_notebook_vis_options\n",
    "{\n",
    "  \"edges\": {\n",
    "    \"smooth\": {\n",
    "      \"enabled\": true,\n",
    "      \"type\": \"dynamic\"\n",
    "    },\n",
    "    \"arrows\": {\n",
    "      \"to\": {\n",
    "        \"enabled\": true,\n",
    "        \"type\": \"arrow\"\n",
    "      }\n",
    "    }\n",
    "  }\n",
    "}"
   ]
  },
  {
   "cell_type": "markdown",
   "metadata": {
    "frozen": false,
    "tags": [
     "unsafe_output"
    ]
   },
   "source": [
    "# Initial Setup\n",
    "\n",
    "## Get a view of all Ingested Cluster\n",
    "\n",
    "Retrieve all the current cluster ingested in KubeHound with the associated runID with the number of nodes. This numbers can be used to get a clue of the size of the cluster and also identify if an ingestion did not complete."
   ]
  },
  {
   "cell_type": "code",
   "execution_count": null,
   "metadata": {
    "execution": {
     "iopub.execute_input": "2024-07-24T14:46:28.273187Z",
     "iopub.status.busy": "2024-07-24T14:46:28.272852Z",
     "iopub.status.idle": "2024-07-24T14:46:28.625859Z",
     "shell.execute_reply": "2024-07-24T14:46:28.625126Z",
     "shell.execute_reply.started": "2024-07-24T14:46:28.273156Z"
    },
    "frozen": false,
    "tags": [
     "safe_output"
    ]
   },
   "outputs": [],
   "source": [
    "%%gremlin -d class -g critical -le 50 -p inv,oute\n",
    "\n",
    "kh.nodes()\n",
    "    .groupCount()\n",
    "    .by(project('cluster','runID')\n",
    "         .by('cluster').by('runID'))\n",
    "    .unfold()\n",
    "    .limit(100)  // Limit the number of results for large clusters"
   ]
  },
  {
   "cell_type": "markdown",
   "metadata": {
    "frozen": false,
    "tags": [
     "unsafe_output"
    ]
   },
   "source": [
    "## Setting your run_id/cluster\n",
    "\n",
    "Set which runID you want to use. The variable are being shared with the user, so we advise to make a uniq string for your user `runID_yourid` to avoid any conflict."
   ]
  },
  {
   "cell_type": "code",
   "execution_count": null,
   "metadata": {
    "frozen": false,
    "tags": [
     "safe_output"
    ]
   },
   "outputs": [],
   "source": [
    "%%gremlin -d class -g critical -le 50 -p inv,oute\n",
    "\n",
    "graph.variables()\n",
    "    .set('runID_yourid',' 01htdgjj34mcmrrksw4bjy2e94')"
   ]
  },
  {
   "cell_type": "markdown",
   "metadata": {
    "frozen": false,
    "tags": [
     "unsafe_output"
    ]
   },
   "source": [
    "# Endpoints\n",
    "\n",
    "Identify attack path from endpoints. Get a view of all endpoints leading to a critical path (full take over on the cluster).\n",
    "\n",
    "## Identify the vulnerable app/namespace\n",
    "\n",
    "The list here is exhaustive by port which means an `app` or `namespace` can be listed multiple times."
   ]
  },
  {
   "cell_type": "code",
   "execution_count": null,
   "metadata": {
    "frozen": false,
    "tags": [
     "safe_output"
    ]
   },
   "outputs": [],
   "source": [
    "%%gremlin -d class -g critical -le 50 -p inv,oute\n",
    "\n",
    "kh.endpoints()\n",
    "    .has(\"runID\", graph.variables().get('runID_yourid').get())\n",
    "    .hasCriticalPath()\n",
    "    .dedup()\n",
    "    .by(\"namespace\")\n",
    "    .by(\"port\")\n",
    "    .valueMap(\"namespace\",\"app\",\"team\",\"portName\",\"port\",\"serviceDns\",\"exposure\")\n",
    "    .limit(100)  // Limit the number of results for large clusters"
   ]
  },
  {
   "cell_type": "markdown",
   "metadata": {
    "frozen": false,
    "tags": [
     "unsafe_output"
    ]
   },
   "source": [
    "The following list give a more abstract view to get deduplicated list of vulnerable `app`/`namespace`.\n",
    "\n",
    "The goal here is to extact a list of apps to whitelist. If the flags are not set properly, you scope it by `namespace`."
   ]
  },
  {
   "cell_type": "code",
   "execution_count": null,
   "metadata": {
    "frozen": false,
    "tags": [
     "safe_output"
    ]
   },
   "outputs": [],
   "source": [
    "%%gremlin -d class -g critical -le 50 -p inv,oute\n",
    "\n",
    "kh.endpoints()\n",
    "    .has(\"runID\", graph.variables().get('runID_yourid').get())\n",
    "    .hasCriticalPath()\n",
    "    .dedup()\n",
    "    .by(\"namespace\")\n",
    "    .by(\"app\")\n",
    "    .valueMap(\"namespace\",\"app\")\n",
    "    .limit(100)  // Limit the number of results for large clusters"
   ]
  },
  {
   "cell_type": "markdown",
   "metadata": {
    "frozen": false,
    "tags": [
     "unsafe_output"
    ]
   },
   "source": [
    "## Manual investigation for each app/namespace\n",
    "\n",
    "From the above list, you can iterate manual investigation by scoping by each vulnerable `app`/`namespace`. To process the investigation, just copy/paste the name of the vulnerable app (replace `VULNERABLE_APP` by the targetted app).\n",
    "\n",
    "### Listing all attack paths from a particular app\n",
    "\n",
    "The following gremlin request will **list all attack paths**. We add a limit(1000) to avoid having huge graph."
   ]
  },
  {
   "cell_type": "code",
   "execution_count": null,
   "metadata": {
    "frozen": false,
    "scrolled": true,
    "tags": [
     "safe_output"
    ]
   },
   "outputs": [],
   "source": [
    "%%gremlin -d class -g critical -le 50 -p inv,oute\n",
    "\n",
    "kh.endpoints()\n",
    "    .has(\"runID\", graph.variables().get('runID_jtdd').get())\n",
    "    .has(\"app\",\"VULNERABLE_APP\")\n",
    "    .criticalPaths()\n",
    "    .by(elementMap())\n",
    "    .limit(1000)  // Limit the number of results for large clusters"
   ]
  },
  {
   "cell_type": "markdown",
   "metadata": {
    "frozen": false,
    "tags": [
     "unsafe_output"
    ]
   },
   "source": [
    "The last view can be quite overwhelming. Also the last view can be capped with the limit(1000), so we dont have an exhaustive view. Increasing the limit will not solve the issue as, it will become non human readable.  \n",
    "\n",
    "### Listing all attack path deduplicated by app from a particular app \n",
    "\n",
    "One wau to solve it is to general an **overall view to understand the attack path**. This view will strip any specific information (IP, name, ...). For instance, this will remove any replicatset duplication."
   ]
  },
  {
   "cell_type": "code",
   "execution_count": null,
   "metadata": {
    "frozen": false,
    "tags": [
     "safe_output"
    ]
   },
   "outputs": [],
   "source": [
    "%%gremlin -d class -g critical -le 50 -p inv,oute\n",
    "\n",
    "kh.endpoints()\n",
    "    .has(\"runID\", graph.variables().get('runID_yourid').get())\n",
    "    .has(\"app\",\"VULNERABLE_APP\")\n",
    "    .criticalPaths()\n",
    "    .by(valueMap(\"app\", \"class\",\"critical\").with(WithOptions.tokens,WithOptions.labels))\n",
    "    .limit(10000)\n",
    "    .dedup()\n",
    "    .limit(1000)  // Limit the number of results for large clusters"
   ]
  },
  {
   "cell_type": "markdown",
   "metadata": {
    "frozen": false,
    "tags": [
     "unsafe_output"
    ]
   },
   "source": [
    "Something, this view is still too big and return too many elements to be easily processable. \n",
    "\n",
    "### Listing all attack path deduplicated by label/type from a particular app \n",
    "\n",
    "To get an even widder picture, we can deduplicate the attack paths by label. This show the interaction from one type (endpoints/containers/nodes/...) to try to understand the bigger picture."
   ]
  },
  {
   "cell_type": "code",
   "execution_count": null,
   "metadata": {
    "frozen": false,
    "tags": [
     "safe_output"
    ]
   },
   "outputs": [],
   "source": [
    "%%gremlin -d class -g critical -le 50 -p inv,oute\n",
    "\n",
    "kh.endpoints()\n",
    "    .has(\"runID\", graph.variables().get('runID_yourid').get())\n",
    "    .has(\"app\",\"VULNERABLE_APP\")\n",
    "    .criticalPaths()\n",
    "    .by(label())\n",
    "    .dedup()\n",
    "    .limit(1000)  // Limit the number of results for large clusters"
   ]
  }
 ],
 "metadata": {
  "celltoolbar": "Initialization Cell",
  "dd-sharing": {
   "allowed_groups": [
    "team-ase",
    "subproduct-secopsengineering",
    "team-aso",
    ""
   ],
   "allowed_users": [
    ""
   ],
   "retention_period": "90"
  },
  "kernelspec": {
   "display_name": "Python 3 (default)",
   "language": "python",
   "name": "ipykernel-default"
  },
  "language_info": {
   "codemirror_mode": {
    "name": "ipython",
    "version": 3
   },
   "file_extension": ".py",
   "mimetype": "text/x-python",
   "name": "python",
   "nbconvert_exporter": "python",
   "pygments_lexer": "ipython3",
   "version": "3.10.13"
  }
 },
 "nbformat": 4,
 "nbformat_minor": 4
}
