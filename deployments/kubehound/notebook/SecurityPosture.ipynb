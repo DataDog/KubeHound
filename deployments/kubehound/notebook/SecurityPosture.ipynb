{
 "cells": [
  {
   "cell_type": "code",
   "execution_count": null,
   "metadata": {},
   "outputs": [],
   "source": [
    "Security posturer metrics\n",
    "\n",
    "shortest path, number of attack paths from servuces, % exposed services, attack path map"
   ]
  }
 ],
 "metadata": {
  "language_info": {
   "name": "python"
  }
 },
 "nbformat": 4,
 "nbformat_minor": 2
}
