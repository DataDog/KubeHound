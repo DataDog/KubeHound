{
 "cells": [
  {
   "attachments": {},
   "cell_type": "markdown",
   "metadata": {},
   "source": [
    "# User defined queries \n",
    "\n",
    "This notebook (and the ones next to it in this folder) will be in sync between the docker container and the hosts.\n",
    "You can use this to experiment and save your queries in git, if needed.\n",
    "This file is persistant.\n"
   ]
  },
  {
   "cell_type": "code",
   "execution_count": null,
   "metadata": {
    "vscode": {
     "languageId": "plaintext"
    }
   },
   "outputs": [],
   "source": [
    "%%graph_notebook_config\n",
    "{\n",
    "  \"host\": \"host.docker.internal\",\n",
    "  \"port\": 8182,\n",
    "  \"ssl\": false,\n",
    "  \"gremlin\": {\n",
    "    \"traversal_source\": \"g\",\n",
    "    \"username\": \"\",\n",
    "    \"password\": \"\",\n",
    "    \"message_serializer\": \"graphsonv3\"\n",
    "  }\n",
    "}"
   ]
  },
  {
   "cell_type": "code",
   "execution_count": null,
   "metadata": {
    "vscode": {
     "languageId": "plaintext"
    }
   },
   "outputs": [],
   "source": [
    "%%gremlin -d class -g class  -le 50 -p inv,oute\n",
    "kh.V().count()"
   ]
  }
 ],
 "metadata": {
  "kernelspec": {
   "display_name": "Python 3",
   "language": "python",
   "name": "python3"
  },
  "language_info": {
   "codemirror_mode": {
    "name": "ipython",
    "version": 3
   },
   "file_extension": ".py",
   "mimetype": "text/x-python",
   "name": "python",
   "nbconvert_exporter": "python",
   "pygments_lexer": "ipython3",
   "version": "3.8.16"
  },
  "orig_nbformat": 4
 },
 "nbformat": 4,
 "nbformat_minor": 2
}
